{
 "cells": [
  {
   "cell_type": "code",
   "execution_count": 6,
   "id": "81d8abd6",
   "metadata": {},
   "outputs": [],
   "source": [
    "import gspread\n",
    "import pandas as pd\n",
    "import os\n",
    "from oauth2client.service_account import ServiceAccountCredentials\n",
    "from datetime import datetime\n",
    "import argparse\n",
    "import random, string\n",
    "import psycopg2\n",
    "import time\n",
    "from creds import rds_username, rds_password, rds_url\n",
    "from creds import rds_port, rds_db\n",
    "\n",
    "# define the scope\n",
    "scope = ['https://spreadsheets.google.com/feeds','https://www.googleapis.com/auth/drive']\n",
    "\n",
    "# add credentials to the account\n",
    "creds = ServiceAccountCredentials.from_json_keyfile_name('../creds.json', scope)\n",
    "\n",
    "\n",
    "client = gspread.authorize(creds)\n",
    "sheet = client.open('jukebox pipeline')\n",
    "sheet_instance = sheet.get_worksheet(0)\n",
    "records_data = sheet_instance.get_all_records()\n",
    "records_df = pd.DataFrame.from_dict(records_data)"
   ]
  },
  {
   "cell_type": "code",
   "execution_count": 38,
   "id": "4a408437",
   "metadata": {},
   "outputs": [],
   "source": [
    "conn = psycopg2.connect(\n",
    "    host=rds_url,\n",
    "    port=rds_port,\n",
    "    dbname=rds_db,\n",
    "    user=rds_username,\n",
    "    password=rds_password)\n",
    "\n",
    "def write2database(conn, table, data):\n",
    "\tcur = conn.cursor()\n",
    "\tcur.execute(table, (data))\n",
    "\tconn.commit()\n",
    "\tcur.close()\n",
    "\n",
    "add_song = \"\"\" INSERT INTO afm_songs_prod VALUES (now(), %s, %s, %s, %s, %s, %s, %s, %s)\"\"\""
   ]
  },
  {
   "cell_type": "code",
   "execution_count": 39,
   "id": "56e38f7e",
   "metadata": {},
   "outputs": [
    {
     "name": "stdout",
     "output_type": "stream",
     "text": [
      "('vaKXAop2UWjbnMHY_EgJtWQ', 'vaKXAop2UWjbnMHY', 'rock', 'the weeknd', 'jukebox/data/primes/Nobide_CC13_crystalcastles_soul_item_2_TRIMMED.wav', 'nobide', 'http://matlaberp2.media.mit.edu:8000/outputs/5/Nobide_CC13_crystalcastles_soul_item_2_TRIMMED_theweeknd_rock_prompt6_dur25/level_0/item_0.wav', 'batch2')\n",
      "('vaKXAop2UWjbnMHY_4dyVts', 'vaKXAop2UWjbnMHY', 'rock', 'the weeknd', 'jukebox/data/primes/Nobide_CC13_crystalcastles_soul_item_2_TRIMMED.wav', 'nobide', 'http://matlaberp2.media.mit.edu:8000/outputs/5/Nobide_CC13_crystalcastles_soul_item_2_TRIMMED_theweeknd_rock_prompt6_dur25/level_0/item_1.wav', 'batch2')\n",
      "('vaKXAop2UWjbnMHY_lCNhVn', 'vaKXAop2UWjbnMHY', 'rock', 'the weeknd', 'jukebox/data/primes/Nobide_CC13_crystalcastles_soul_item_2_TRIMMED.wav', 'nobide', 'http://matlaberp2.media.mit.edu:8000/outputs/5/Nobide_CC13_crystalcastles_soul_item_2_TRIMMED_theweeknd_rock_prompt6_dur25/level_0/item_2.wav', 'batch2')\n",
      "('vaKXAop2UWjbnMHY_e8skjv', 'vaKXAop2UWjbnMHY', 'rock', 'the weeknd', 'jukebox/data/primes/Nobide_CC13_crystalcastles_soul_item_2_TRIMMED.wav', 'nobide', 'http://matlaberp2.media.mit.edu:8000/outputs/5/Nobide_CC13_crystalcastles_soul_item_2_TRIMMED_theweeknd_rock_prompt6_dur25/level_0/item_3.wav', 'batch2')\n",
      "('vaKXAop2UWjbnMHY_JOHyAK', 'vaKXAop2UWjbnMHY', 'rock', 'the weeknd', 'jukebox/data/primes/Nobide_CC13_crystalcastles_soul_item_2_TRIMMED.wav', 'nobide', 'http://matlaberp2.media.mit.edu:8000/outputs/5/Nobide_CC13_crystalcastles_soul_item_2_TRIMMED_theweeknd_rock_prompt6_dur25/level_0/item_4.wav', 'batch2')\n",
      "('vaKXAop2UWjbnMHY_FsDxwW', 'vaKXAop2UWjbnMHY', 'rock', 'the weeknd', 'jukebox/data/primes/Nobide_CC13_crystalcastles_soul_item_2_TRIMMED.wav', 'nobide', 'http://matlaberp2.media.mit.edu:8000/outputs/5/Nobide_CC13_crystalcastles_soul_item_2_TRIMMED_theweeknd_rock_prompt6_dur25/level_0/item_5.wav', 'batch2')\n",
      "('Zh1a0cvVXwgQY2vO_L4v6Vn', 'Zh1a0cvVXwgQY2vO', 'house', 'dolly parton', 'jukebox/data/primes/mary_may2_dollyparton_americana_item_1_TRIMMED.wav', 'mary may', 'http://matlaberp2.media.mit.edu:8000/outputs/5/mary_may2_dollyparton_americana_item_1_TRIMMED_dollyparton_house_prompt6_dur25/level_0/item_0.wav', 'batch2')\n",
      "('Zh1a0cvVXwgQY2vO_gdbgGY', 'Zh1a0cvVXwgQY2vO', 'house', 'dolly parton', 'jukebox/data/primes/mary_may2_dollyparton_americana_item_1_TRIMMED.wav', 'mary may', 'http://matlaberp2.media.mit.edu:8000/outputs/5/mary_may2_dollyparton_americana_item_1_TRIMMED_dollyparton_house_prompt6_dur25/level_0/item_1.wav', 'batch2')\n",
      "('Zh1a0cvVXwgQY2vO_qrYcC4', 'Zh1a0cvVXwgQY2vO', 'house', 'dolly parton', 'jukebox/data/primes/mary_may2_dollyparton_americana_item_1_TRIMMED.wav', 'mary may', 'http://matlaberp2.media.mit.edu:8000/outputs/5/mary_may2_dollyparton_americana_item_1_TRIMMED_dollyparton_house_prompt6_dur25/level_0/item_2.wav', 'batch2')\n",
      "('Zh1a0cvVXwgQY2vO_rjv8jF', 'Zh1a0cvVXwgQY2vO', 'house', 'dolly parton', 'jukebox/data/primes/mary_may2_dollyparton_americana_item_1_TRIMMED.wav', 'mary may', 'http://matlaberp2.media.mit.edu:8000/outputs/5/mary_may2_dollyparton_americana_item_1_TRIMMED_dollyparton_house_prompt6_dur25/level_0/item_3.wav', 'batch2')\n",
      "('Zh1a0cvVXwgQY2vO_NgW3iD', 'Zh1a0cvVXwgQY2vO', 'house', 'dolly parton', 'jukebox/data/primes/mary_may2_dollyparton_americana_item_1_TRIMMED.wav', 'mary may', 'http://matlaberp2.media.mit.edu:8000/outputs/5/mary_may2_dollyparton_americana_item_1_TRIMMED_dollyparton_house_prompt6_dur25/level_0/item_4.wav', 'batch2')\n",
      "('Zh1a0cvVXwgQY2vO_Ukdn9m', 'Zh1a0cvVXwgQY2vO', 'house', 'dolly parton', 'jukebox/data/primes/mary_may2_dollyparton_americana_item_1_TRIMMED.wav', 'mary may', 'http://matlaberp2.media.mit.edu:8000/outputs/5/mary_may2_dollyparton_americana_item_1_TRIMMED_dollyparton_house_prompt6_dur25/level_0/item_5.wav', 'batch2')\n",
      "('9SQCV03f2ge9SszK_3RxASS', '9SQCV03f2ge9SszK', 'americana', 'elton john', 'jukebox/data/primes/mary_may2_dollyparton_americana_item_1_TRIMMED.wav', 'mary may', 'http://matlaberp2.media.mit.edu:8000/outputs/5/mary_may2_dollyparton_americana_item_1_TRIMMED_eltonjohn_americana_prompt6_dur25/level_0/item_0.wav', 'batch2')\n",
      "('9SQCV03f2ge9SszK_8UDdeF', '9SQCV03f2ge9SszK', 'americana', 'elton john', 'jukebox/data/primes/mary_may2_dollyparton_americana_item_1_TRIMMED.wav', 'mary may', 'http://matlaberp2.media.mit.edu:8000/outputs/5/mary_may2_dollyparton_americana_item_1_TRIMMED_eltonjohn_americana_prompt6_dur25/level_0/item_1.wav', 'batch2')\n",
      "('9SQCV03f2ge9SszK_XM5R5O', '9SQCV03f2ge9SszK', 'americana', 'elton john', 'jukebox/data/primes/mary_may2_dollyparton_americana_item_1_TRIMMED.wav', 'mary may', 'http://matlaberp2.media.mit.edu:8000/outputs/5/mary_may2_dollyparton_americana_item_1_TRIMMED_eltonjohn_americana_prompt6_dur25/level_0/item_2.wav', 'batch2')\n",
      "('9SQCV03f2ge9SszK_kKEfWb', '9SQCV03f2ge9SszK', 'americana', 'elton john', 'jukebox/data/primes/mary_may2_dollyparton_americana_item_1_TRIMMED.wav', 'mary may', 'http://matlaberp2.media.mit.edu:8000/outputs/5/mary_may2_dollyparton_americana_item_1_TRIMMED_eltonjohn_americana_prompt6_dur25/level_0/item_3.wav', 'batch2')\n",
      "('9SQCV03f2ge9SszK_rh8yU4', '9SQCV03f2ge9SszK', 'americana', 'elton john', 'jukebox/data/primes/mary_may2_dollyparton_americana_item_1_TRIMMED.wav', 'mary may', 'http://matlaberp2.media.mit.edu:8000/outputs/5/mary_may2_dollyparton_americana_item_1_TRIMMED_eltonjohn_americana_prompt6_dur25/level_0/item_4.wav', 'batch2')\n",
      "('9SQCV03f2ge9SszK_PIE3Mp', '9SQCV03f2ge9SszK', 'americana', 'elton john', 'jukebox/data/primes/mary_may2_dollyparton_americana_item_1_TRIMMED.wav', 'mary may', 'http://matlaberp2.media.mit.edu:8000/outputs/5/mary_may2_dollyparton_americana_item_1_TRIMMED_eltonjohn_americana_prompt6_dur25/level_0/item_5.wav', 'batch2')\n",
      "('r74tzb1lELxuj0RO_BdTwvU', 'r74tzb1lELxuj0RO', 'rock', 'aerosmith', 'jukebox/data/primes/Nobide_CC13_justinbieber_classical_item_1_TRIMMED.wav', 'nobide', 'http://matlaberp2.media.mit.edu:8000/outputs/5/Nobide_CC13_justinbieber_classical_item_1_TRIMMED_aerosmith_rock_prompt6_dur25/level_0/item_0.wav', 'batch2')\n",
      "('r74tzb1lELxuj0RO_QuSGri', 'r74tzb1lELxuj0RO', 'rock', 'aerosmith', 'jukebox/data/primes/Nobide_CC13_justinbieber_classical_item_1_TRIMMED.wav', 'nobide', 'http://matlaberp2.media.mit.edu:8000/outputs/5/Nobide_CC13_justinbieber_classical_item_1_TRIMMED_aerosmith_rock_prompt6_dur25/level_0/item_1.wav', 'batch2')\n",
      "('r74tzb1lELxuj0RO_E8QxVQ', 'r74tzb1lELxuj0RO', 'rock', 'aerosmith', 'jukebox/data/primes/Nobide_CC13_justinbieber_classical_item_1_TRIMMED.wav', 'nobide', 'http://matlaberp2.media.mit.edu:8000/outputs/5/Nobide_CC13_justinbieber_classical_item_1_TRIMMED_aerosmith_rock_prompt6_dur25/level_0/item_2.wav', 'batch2')\n",
      "('r74tzb1lELxuj0RO_kKX7O8', 'r74tzb1lELxuj0RO', 'rock', 'aerosmith', 'jukebox/data/primes/Nobide_CC13_justinbieber_classical_item_1_TRIMMED.wav', 'nobide', 'http://matlaberp2.media.mit.edu:8000/outputs/5/Nobide_CC13_justinbieber_classical_item_1_TRIMMED_aerosmith_rock_prompt6_dur25/level_0/item_3.wav', 'batch2')\n",
      "('r74tzb1lELxuj0RO_EnhsCi', 'r74tzb1lELxuj0RO', 'rock', 'aerosmith', 'jukebox/data/primes/Nobide_CC13_justinbieber_classical_item_1_TRIMMED.wav', 'nobide', 'http://matlaberp2.media.mit.edu:8000/outputs/5/Nobide_CC13_justinbieber_classical_item_1_TRIMMED_aerosmith_rock_prompt6_dur25/level_0/item_4.wav', 'batch2')\n",
      "('r74tzb1lELxuj0RO_ft3mRe', 'r74tzb1lELxuj0RO', 'rock', 'aerosmith', 'jukebox/data/primes/Nobide_CC13_justinbieber_classical_item_1_TRIMMED.wav', 'nobide', 'http://matlaberp2.media.mit.edu:8000/outputs/5/Nobide_CC13_justinbieber_classical_item_1_TRIMMED_aerosmith_rock_prompt6_dur25/level_0/item_5.wav', 'batch2')\n",
      "('yFBbbSzNNjDfITJX_chIplr', 'yFBbbSzNNjDfITJX', 'folk', 'the weeknd', 'jukebox/data/primes/Nobide_CC13_crystalcastles_soul_item_2_TRIMMED.wav', 'nobide', 'http://matlaberp2.media.mit.edu:8000/outputs/5/Nobide_CC13_crystalcastles_soul_item_2_TRIMMED_theweeknd_folk_prompt6_dur25/level_0/item_0.wav', 'batch2')\n",
      "('yFBbbSzNNjDfITJX_yZv9Fv', 'yFBbbSzNNjDfITJX', 'folk', 'the weeknd', 'jukebox/data/primes/Nobide_CC13_crystalcastles_soul_item_2_TRIMMED.wav', 'nobide', 'http://matlaberp2.media.mit.edu:8000/outputs/5/Nobide_CC13_crystalcastles_soul_item_2_TRIMMED_theweeknd_folk_prompt6_dur25/level_0/item_1.wav', 'batch2')\n",
      "('yFBbbSzNNjDfITJX_eIexIl', 'yFBbbSzNNjDfITJX', 'folk', 'the weeknd', 'jukebox/data/primes/Nobide_CC13_crystalcastles_soul_item_2_TRIMMED.wav', 'nobide', 'http://matlaberp2.media.mit.edu:8000/outputs/5/Nobide_CC13_crystalcastles_soul_item_2_TRIMMED_theweeknd_folk_prompt6_dur25/level_0/item_2.wav', 'batch2')\n"
     ]
    },
    {
     "name": "stdout",
     "output_type": "stream",
     "text": [
      "('yFBbbSzNNjDfITJX_j9R9l6', 'yFBbbSzNNjDfITJX', 'folk', 'the weeknd', 'jukebox/data/primes/Nobide_CC13_crystalcastles_soul_item_2_TRIMMED.wav', 'nobide', 'http://matlaberp2.media.mit.edu:8000/outputs/5/Nobide_CC13_crystalcastles_soul_item_2_TRIMMED_theweeknd_folk_prompt6_dur25/level_0/item_3.wav', 'batch2')\n",
      "('yFBbbSzNNjDfITJX_mcTHkm', 'yFBbbSzNNjDfITJX', 'folk', 'the weeknd', 'jukebox/data/primes/Nobide_CC13_crystalcastles_soul_item_2_TRIMMED.wav', 'nobide', 'http://matlaberp2.media.mit.edu:8000/outputs/5/Nobide_CC13_crystalcastles_soul_item_2_TRIMMED_theweeknd_folk_prompt6_dur25/level_0/item_4.wav', 'batch2')\n",
      "('yFBbbSzNNjDfITJX_Op8yqy', 'yFBbbSzNNjDfITJX', 'folk', 'the weeknd', 'jukebox/data/primes/Nobide_CC13_crystalcastles_soul_item_2_TRIMMED.wav', 'nobide', 'http://matlaberp2.media.mit.edu:8000/outputs/5/Nobide_CC13_crystalcastles_soul_item_2_TRIMMED_theweeknd_folk_prompt6_dur25/level_0/item_5.wav', 'batch2')\n"
     ]
    }
   ],
   "source": [
    "for i,r in records_df.loc[36:].iterrows():\n",
    "    for j in range(0,6):\n",
    "        song_id = ''.join(random.choice(string.ascii_uppercase + string.ascii_lowercase + string.digits) for _ in range(6))\n",
    "        data4db = (\"{}_{}\".format(r['run_id'], song_id),r['run_id'],r['genre'],r['artist'],r['audio_file'],r['dna_artist'], r['link'] + \"item_{}.wav\".format(j), \"batch2\")\n",
    "        write2database(conn, add_song, data4db)\n",
    "        print(data4db)"
   ]
  },
  {
   "cell_type": "code",
   "execution_count": 40,
   "id": "818e5568",
   "metadata": {},
   "outputs": [],
   "source": [
    "conn.close()"
   ]
  },
  {
   "cell_type": "code",
   "execution_count": null,
   "id": "50c4dc49",
   "metadata": {},
   "outputs": [],
   "source": []
  }
 ],
 "metadata": {
  "kernelspec": {
   "display_name": "Python 3",
   "language": "python",
   "name": "python3"
  },
  "language_info": {
   "codemirror_mode": {
    "name": "ipython",
    "version": 3
   },
   "file_extension": ".py",
   "mimetype": "text/x-python",
   "name": "python",
   "nbconvert_exporter": "python",
   "pygments_lexer": "ipython3",
   "version": "3.9.5"
  }
 },
 "nbformat": 4,
 "nbformat_minor": 5
}
