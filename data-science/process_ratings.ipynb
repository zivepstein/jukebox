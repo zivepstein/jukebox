{
 "cells": [
  {
   "cell_type": "code",
   "execution_count": 44,
   "id": "10d763f2",
   "metadata": {},
   "outputs": [],
   "source": [
    "import psycopg2\n",
    "import pandas as pd\n",
    "import pandas.io.sql as sqlio\n",
    "import numpy as np\n",
    "import pandas as pd\n",
    "\n",
    "\n",
    "from creds import rds_username, rds_password, rds_url, rds_port, rds_db, ip_key\n",
    "conn = psycopg2.connect(\n",
    "        host=rds_url,\n",
    "        port=rds_port,\n",
    "        dbname=rds_db,\n",
    "        user=rds_username,\n",
    "        password=rds_password)"
   ]
  },
  {
   "cell_type": "code",
   "execution_count": 45,
   "id": "f777e9fb",
   "metadata": {},
   "outputs": [],
   "source": [
    "query = \"select * from afm_ratings_prod\"\n",
    "ratings = sqlio.read_sql_query(query, conn)\n",
    "#ratings = pd.read_csv(\"path/to/afm_ratings_prod\")"
   ]
  },
  {
   "cell_type": "code",
   "execution_count": 46,
   "id": "0ef17ff6",
   "metadata": {},
   "outputs": [],
   "source": [
    "squery = \"select * from afm_songs_cov\"\n",
    "songs = sqlio.read_sql_query(squery, conn)\n",
    "#ratings = pd.read_csv(\"path/to/afm_songs_cov\")"
   ]
  },
  {
   "cell_type": "code",
   "execution_count": 47,
   "id": "656db9e2",
   "metadata": {},
   "outputs": [],
   "source": [
    "ratings = pd.merge(ratings, songs, on=\"song_id\", how= \"left\")"
   ]
  },
  {
   "cell_type": "code",
   "execution_count": 48,
   "id": "b5e1c82f",
   "metadata": {},
   "outputs": [
    {
     "data": {
      "text/plain": [
       "How much do you like this song?     85\n",
       "How happy is this song?             82\n",
       "How instrumental is this song?      78\n",
       "How artificial is this song?        74\n",
       "How upbeat is this song?            74\n",
       "How clear are the lyrics?           62\n",
       "How danceable is this song?         55\n",
       "How much did you like this song?     2\n",
       "Name: question, dtype: int64"
      ]
     },
     "execution_count": 48,
     "metadata": {},
     "output_type": "execute_result"
    }
   ],
   "source": [
    "ratings['question'].value_counts()"
   ]
  },
  {
   "cell_type": "code",
   "execution_count": 49,
   "id": "aa4302cf",
   "metadata": {},
   "outputs": [
    {
     "data": {
      "text/plain": [
       "1    197\n",
       "2     88\n",
       "3     31\n",
       "4      9\n",
       "5      2\n",
       "Name: 0, dtype: int64"
      ]
     },
     "execution_count": 49,
     "metadata": {},
     "output_type": "execute_result"
    }
   ],
   "source": [
    "ratings.groupby(['question', 'song_id']).size().reset_index()[0].value_counts()"
   ]
  },
  {
   "cell_type": "code",
   "execution_count": 51,
   "id": "874450d2",
   "metadata": {},
   "outputs": [],
   "source": [
    "ratings.to_csv(\"/Users/ziv.e/github/jukebox/data-science/ratings.csv\")"
   ]
  },
  {
   "cell_type": "code",
   "execution_count": 52,
   "id": "d26f17e9",
   "metadata": {},
   "outputs": [],
   "source": [
    "songs.to_csv(\"/Users/ziv.e/github/jukebox/data-science/songs.csv\")"
   ]
  },
  {
   "cell_type": "code",
   "execution_count": 46,
   "id": "b2e2b97c",
   "metadata": {},
   "outputs": [],
   "source": [
    "conn.close()"
   ]
  },
  {
   "cell_type": "code",
   "execution_count": 43,
   "id": "4f3aeb54",
   "metadata": {},
   "outputs": [
    {
     "data": {
      "text/plain": [
       "18212B93F94F3A43    171\n",
       "74DBC47E63D0FDD6     39\n",
       "59DD450C21226E6D     32\n",
       "8558532FC2B480E5     23\n",
       "5556D7858A215E37     22\n",
       "1DDAEBDFCEDC1F66     20\n",
       "DFFB1CBB2771EA92     18\n",
       "D60722704157C717     17\n",
       "B9735B79A3884B5D     12\n",
       "2933267D09637A6E     11\n",
       "0ED38C6A45101B0B      9\n",
       "A20EB04B41ACFDB1      9\n",
       "E34F200DDB753433      9\n",
       "3728C1BAEAD33FF4      8\n",
       "61F38447DFB0A381      8\n",
       "D15010260FBB1231      8\n",
       "8FCB3211009E31D5      8\n",
       "8F4C2824F8919738      8\n",
       "B1C481BB59D687C8      7\n",
       "2D8D56E611B2D295      7\n",
       "6B2E2A3BA26BD417      7\n",
       "AAB2DAD9BA7FBB39      6\n",
       "35EE3D0ACA5B2C52      6\n",
       "4BA6CB1434A86D0C      6\n",
       "F5BD133F1225AFD9      5\n",
       "5298709776273BC6      5\n",
       "4727A55DD8E37F74      4\n",
       "415BE8F087C10652      4\n",
       "5E4BA935F68530EE      4\n",
       "0F728AA64F6D58FC      4\n",
       "8C474DACA9A70561      3\n",
       "14041869E60C65C8      3\n",
       "496851EB7C861A67      3\n",
       "20E6A839317F9DEF      1\n",
       "5E91D44540F75961      1\n",
       "9814854D2042FAEF      1\n",
       "F8F6F64A8C8097B1      1\n",
       "0475E952137D8C88      1\n",
       "7D80F1B0BC578520      1\n",
       "Name: user_id, dtype: int64"
      ]
     },
     "execution_count": 43,
     "metadata": {},
     "output_type": "execute_result"
    }
   ],
   "source": [
    "ratings['user_id'].value_counts()"
   ]
  },
  {
   "cell_type": "code",
   "execution_count": null,
   "id": "e4aba9a4",
   "metadata": {},
   "outputs": [],
   "source": []
  }
 ],
 "metadata": {
  "kernelspec": {
   "display_name": "Python 3",
   "language": "python",
   "name": "python3"
  },
  "language_info": {
   "codemirror_mode": {
    "name": "ipython",
    "version": 3
   },
   "file_extension": ".py",
   "mimetype": "text/x-python",
   "name": "python",
   "nbconvert_exporter": "python",
   "pygments_lexer": "ipython3",
   "version": "3.9.5"
  }
 },
 "nbformat": 4,
 "nbformat_minor": 5
}
